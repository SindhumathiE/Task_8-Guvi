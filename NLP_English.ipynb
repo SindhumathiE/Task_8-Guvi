{
  "cells": [
    {
      "cell_type": "markdown",
      "metadata": {
        "id": "view-in-github",
        "colab_type": "text"
      },
      "source": [
        "<a href=\"https://colab.research.google.com/github/SindhumathiE/Task_8-Guvi/blob/main/NLP_English.ipynb\" target=\"_parent\"><img src=\"https://colab.research.google.com/assets/colab-badge.svg\" alt=\"Open In Colab\"/></a>"
      ]
    },
    {
      "cell_type": "code",
      "execution_count": null,
      "id": "10b6b148",
      "metadata": {
        "id": "10b6b148"
      },
      "outputs": [],
      "source": [
        "import pandas as pd#import neccesary library to import the data\n",
        "df=pd.read_csv(\"English.csv\")#read the csv file and convert them to dataframe\n",
        "df.head()"
      ]
    },
    {
      "cell_type": "code",
      "execution_count": null,
      "id": "b9a250cd",
      "metadata": {
        "id": "b9a250cd"
      },
      "outputs": [],
      "source": [
        "df.shape#cheaking the shape of the dataframe"
      ]
    },
    {
      "cell_type": "code",
      "execution_count": null,
      "id": "8f2c7ce1",
      "metadata": {
        "id": "8f2c7ce1"
      },
      "outputs": [],
      "source": [
        "df.drop_duplicates(keep=False,inplace=True)#drop the duplicate in the dataframe to avoid in the trap of timeout"
      ]
    },
    {
      "cell_type": "code",
      "execution_count": null,
      "id": "6cd64151",
      "metadata": {
        "scrolled": true,
        "id": "6cd64151"
      },
      "outputs": [],
      "source": [
        "df.shape#cheaking the shape of the dataframe"
      ]
    },
    {
      "cell_type": "code",
      "execution_count": null,
      "id": "f869af67",
      "metadata": {
        "scrolled": true,
        "id": "f869af67"
      },
      "outputs": [],
      "source": [
        "df[\"English words/sentences\"].unique()#checking the different values"
      ]
    },
    {
      "cell_type": "code",
      "execution_count": null,
      "id": "92574fed",
      "metadata": {
        "id": "92574fed"
      },
      "outputs": [],
      "source": [
        "df.tail()#seeing the last 5 rows in the dataframe"
      ]
    },
    {
      "cell_type": "code",
      "execution_count": null,
      "id": "39a6c769",
      "metadata": {
        "scrolled": false,
        "id": "39a6c769"
      },
      "outputs": [],
      "source": [
        "df.isnull().sum()#checking if there is any nan value"
      ]
    },
    {
      "cell_type": "code",
      "execution_count": null,
      "id": "a8c5deb4",
      "metadata": {
        "id": "a8c5deb4"
      },
      "outputs": [],
      "source": [
        "df1=df.copy()#taking a copy of dataframe to another dataframe"
      ]
    },
    {
      "cell_type": "markdown",
      "id": "4aeed4f6",
      "metadata": {
        "id": "4aeed4f6"
      },
      "source": [
        "# Task 1"
      ]
    },
    {
      "cell_type": "code",
      "execution_count": null,
      "id": "ce13c47e",
      "metadata": {
        "id": "ce13c47e"
      },
      "outputs": [],
      "source": [
        "from googletrans import Translator, constants#library"
      ]
    },
    {
      "cell_type": "code",
      "execution_count": null,
      "id": "1beb7bc9",
      "metadata": {
        "id": "1beb7bc9"
      },
      "outputs": [],
      "source": [
        "#function for translate from english to spanish\n",
        "def translator(x):\n",
        "    t=Translator()\n",
        "    trans=t.translate(x,dest=\"es\")\n",
        "    return trans.text"
      ]
    },
    {
      "cell_type": "code",
      "execution_count": null,
      "id": "531a4d8e",
      "metadata": {
        "id": "531a4d8e"
      },
      "outputs": [],
      "source": [
        "#function for translate from english to german\n",
        "def translato(x):\n",
        "    t=Translator()\n",
        "    trans=t.translate(x,dest=\"german\")\n",
        "    return trans.text"
      ]
    },
    {
      "cell_type": "code",
      "execution_count": null,
      "id": "3014cd13",
      "metadata": {
        "id": "3014cd13"
      },
      "outputs": [],
      "source": [
        "#function for translate from english to french\n",
        "def translators(x):\n",
        "    t=Translator()\n",
        "    trans=t.translate(x,dest=\"french\")\n",
        "    return trans.text"
      ]
    },
    {
      "cell_type": "code",
      "execution_count": null,
      "id": "90b4b166",
      "metadata": {
        "id": "90b4b166"
      },
      "outputs": [],
      "source": [
        "words=df[\"English words/sentences\"].head(100)#top 100 datapoint is for words to perform the translation\n",
        "#if we do for all the datapoint it occur a error called timedout \n",
        "sentence=df[\"English words/sentences\"].tail(100)#bottom 100 is the sentence datapoint to perform the translation"
      ]
    },
    {
      "cell_type": "code",
      "execution_count": null,
      "id": "ba941075",
      "metadata": {
        "id": "ba941075"
      },
      "outputs": [],
      "source": [
        "#creating two empty dataframe\n",
        "df2=pd.DataFrame()\n",
        "df3=pd.DataFrame()"
      ]
    },
    {
      "cell_type": "code",
      "execution_count": null,
      "id": "1f755e72",
      "metadata": {
        "id": "1f755e72"
      },
      "outputs": [],
      "source": [
        "#updating the two dataframe with the values of df\n",
        "df2[\"English words/sentences\"]=df[\"English words/sentences\"].head(100)\n",
        "df3[\"English words/sentences\"]=df[\"English words/sentences\"].tail(100)"
      ]
    },
    {
      "cell_type": "code",
      "execution_count": null,
      "id": "bac3254b",
      "metadata": {
        "id": "bac3254b"
      },
      "outputs": [],
      "source": [
        "#using apply function to perform the operation of translation\n",
        "df2[\"spanish words/sentences\"]=words.apply(translator)\n",
        "df3[\"spanish words/sentences\"]=sentence.apply(translator)"
      ]
    },
    {
      "cell_type": "code",
      "execution_count": null,
      "id": "4cd358dc",
      "metadata": {
        "id": "4cd358dc"
      },
      "outputs": [],
      "source": [
        "#using apply function to perform the operation of translation\n",
        "df2[\"french words/sentences\"]=words.apply(translators)\n",
        "df3[\"french words/sentences\"]=sentence.apply(translators)"
      ]
    },
    {
      "cell_type": "code",
      "execution_count": null,
      "id": "94dd89fb",
      "metadata": {
        "id": "94dd89fb"
      },
      "outputs": [],
      "source": [
        "#using apply function to perform the operation of translation\n",
        "df2[\"german words/sentences\"]=words.apply(translato)\n",
        "df3[\"german words/sentences\"]=sentence.apply(translato)"
      ]
    },
    {
      "cell_type": "code",
      "execution_count": null,
      "id": "216618e8",
      "metadata": {
        "id": "216618e8"
      },
      "outputs": [],
      "source": [
        "language=pd.concat([df2,df3],axis=0)#then concatention the two different dataframe"
      ]
    },
    {
      "cell_type": "code",
      "execution_count": null,
      "id": "60c2c0d3",
      "metadata": {
        "scrolled": true,
        "id": "60c2c0d3"
      },
      "outputs": [],
      "source": [
        "language.head()#seeing the concat dataframe"
      ]
    },
    {
      "cell_type": "markdown",
      "id": "f8f342ba",
      "metadata": {
        "id": "f8f342ba"
      },
      "source": [
        "## Conclusion"
      ]
    },
    {
      "cell_type": "markdown",
      "id": "418af4c4",
      "metadata": {
        "id": "418af4c4"
      },
      "source": [
        "### Translation of english to any other language can be done using google translator"
      ]
    },
    {
      "cell_type": "markdown",
      "id": "531db229",
      "metadata": {
        "id": "531db229"
      },
      "source": [
        "# Task 2"
      ]
    },
    {
      "cell_type": "code",
      "execution_count": null,
      "id": "9d5c6bd4",
      "metadata": {
        "id": "9d5c6bd4"
      },
      "outputs": [],
      "source": [
        "from textblob import TextBlob#library"
      ]
    },
    {
      "cell_type": "code",
      "execution_count": null,
      "id": "2ebcd11a",
      "metadata": {
        "id": "2ebcd11a"
      },
      "outputs": [],
      "source": [
        "#function for correcting the spelling \n",
        "def correction(x):\n",
        "    def convert(x):\n",
        "        li=list(x.split(\" \"))\n",
        "        return li\n",
        "    words=convert(x)\n",
        "    #return words\n",
        "    corrected_words=[]\n",
        "    for i in words:\n",
        "        corrected_words.append(TextBlob(i))\n",
        "    for i in corrected_words:\n",
        "        return \"\".join(i.correct())"
      ]
    },
    {
      "cell_type": "code",
      "execution_count": null,
      "id": "7657cab3",
      "metadata": {
        "id": "7657cab3"
      },
      "outputs": [],
      "source": [
        "words=df[\"English words/sentences\"].head(100)#top 100 datapoints for words\n",
        "sentence=df[\"English words/sentences\"].tail(100)#bottom 100 datapoints for sentence"
      ]
    },
    {
      "cell_type": "code",
      "execution_count": null,
      "id": "c7cd4a87",
      "metadata": {
        "id": "c7cd4a87"
      },
      "outputs": [],
      "source": [
        "#creating the empty dataframe\n",
        "df4=pd.DataFrame()\n",
        "df5=pd.DataFrame()"
      ]
    },
    {
      "cell_type": "code",
      "execution_count": null,
      "id": "a7ff6b1e",
      "metadata": {
        "id": "a7ff6b1e"
      },
      "outputs": [],
      "source": [
        "#updating the two dataframe with the values of df\n",
        "df4[\"English words/sentences\"]=df[\"English words/sentences\"].head(100)\n",
        "df5[\"English words/sentences\"]=df[\"English words/sentences\"].tail(100)"
      ]
    },
    {
      "cell_type": "code",
      "execution_count": null,
      "id": "6e4f4610",
      "metadata": {
        "id": "6e4f4610"
      },
      "outputs": [],
      "source": [
        "#using apply function to perform the operation of translation\n",
        "df4[\"spelling words/sentences\"]=df[\"English words/sentences\"].apply(correction)\n",
        "df5[\"spelling words/sentences\"]=df[\"English words/sentences\"].apply(correction)"
      ]
    },
    {
      "cell_type": "code",
      "execution_count": null,
      "id": "6d4ddec8",
      "metadata": {
        "id": "6d4ddec8"
      },
      "outputs": [],
      "source": [
        "spell_correction=pd.concat([df4,df5],axis=0)#concat the dataframe "
      ]
    },
    {
      "cell_type": "code",
      "execution_count": null,
      "id": "8b1a744d",
      "metadata": {
        "scrolled": false,
        "id": "8b1a744d"
      },
      "outputs": [],
      "source": [
        "spell_correction.head()#viewing the top 5 datapoint"
      ]
    },
    {
      "cell_type": "markdown",
      "id": "0801e7d7",
      "metadata": {
        "id": "0801e7d7"
      },
      "source": [
        "# Task 3"
      ]
    },
    {
      "cell_type": "code",
      "execution_count": null,
      "id": "3e2a4a9b",
      "metadata": {
        "scrolled": true,
        "id": "3e2a4a9b"
      },
      "outputs": [],
      "source": [
        "import docx2txt#library\n",
        "from sklearn.feature_extraction.text import CountVectorizer#library \n",
        "from sklearn.metrics.pairwise import cosine_similarity#library\n",
        "\n",
        "job_description=docx2txt.process(\"C:/Users/hp/Desktop/DataScience/Guvi_task/Task_8/Job_description.docx\")\n",
        "\n",
        "resume=docx2txt.process(\"C:/Users/hp/Desktop/DataScience/Guvi_task/Task_8/Nithish S.docx\")\n",
        "\n",
        "content=[job_description,resume]#convert the text to a list\n",
        "\n",
        "cv=CountVectorizer()#countvectorizer convert text to numerical\n",
        "\n",
        "matrix=cv.fit_transform(content)\n",
        "\n",
        "similarity=cosine_similarity(matrix)#cosine similarity between the job description and your resume\n",
        "\n",
        "print(\"Resume match :{} %\".format(round(similarity[1][0]*100)))"
      ]
    },
    {
      "cell_type": "markdown",
      "id": "49c2d193",
      "metadata": {
        "id": "49c2d193"
      },
      "source": [
        "# Task 4"
      ]
    },
    {
      "cell_type": "markdown",
      "id": "677ab699",
      "metadata": {
        "id": "677ab699"
      },
      "source": [
        "### Details collected from : Customer Name, Mobile Number, Address, ID proof, and Room Type and date of arrival and departure date. Keep some eligibility to Book the Room .All through voice to text classifications\n"
      ]
    },
    {
      "cell_type": "code",
      "execution_count": null,
      "id": "7bba352a",
      "metadata": {
        "id": "7bba352a"
      },
      "outputs": [],
      "source": [
        "import speech_recognition as sr#library\n",
        "#function for voice to text \n",
        "def speech():\n",
        "    r=sr.Recognizer()\n",
        "    with sr.Microphone() as source:\n",
        "        audio=r.listen(source)\n",
        "        try:\n",
        "            t=r.recognize_google(audio)\n",
        "            return t\n",
        "        except:\n",
        "             return None"
      ]
    },
    {
      "cell_type": "code",
      "execution_count": null,
      "id": "8f5113b6",
      "metadata": {
        "id": "8f5113b6"
      },
      "outputs": [],
      "source": [
        "# Import the required module for text\n",
        "# to speech conversion\n",
        "from gtts import gTTS\n",
        "\n",
        "# This module is imported so that we can\n",
        "# play the converted audio\n",
        "import os\n",
        "def audio(mytext):\n",
        "    # Language in which you want to convert\n",
        "    language = 'en'\n",
        "    # Passing the text and language to the engine,\n",
        "    # here we have marked slow=False. Which tells\n",
        "    # the module that the converted audio should\n",
        "    # have a high speed\n",
        "    myobj = gTTS(text=mytext, lang=language, slow=False)\n",
        "    return myobj"
      ]
    },
    {
      "cell_type": "code",
      "execution_count": null,
      "id": "278b9b59",
      "metadata": {
        "id": "278b9b59"
      },
      "outputs": [],
      "source": [
        "#function for criteria match\n",
        "def criteria(member):\n",
        "    if int(member)<=3:\n",
        "        mytext=\"Need to check for the villa but 1,2,3 BHK are available sir\\madam\"\n",
        "        myobj=audio(mytext)\n",
        "        myobj.save(\"4.mp3\")\n",
        "        os.system(\"4.mp3\")\n",
        "    elif ((int(member)>=3) | (int(member)<=10)):\n",
        "        mytext=\" Need to check for the villa but 1,2,3 BHK are available sir\\madam\"\n",
        "        myobj=audio(mytext)\n",
        "        myobj.save(\"5.mp3\")\n",
        "        os.system(\"5.mp3\")\n",
        "    else:\n",
        "        mytext=\" Villa is available and 1,2,3 BHK is not available sir\\madam\"\n",
        "        myobj=audio(mytext)\n",
        "        myobj.save(\"6.mp3\")\n",
        "        os.system(\"6.mp3\")"
      ]
    },
    {
      "cell_type": "code",
      "execution_count": null,
      "id": "a6907fd1",
      "metadata": {
        "id": "a6907fd1"
      },
      "outputs": [],
      "source": [
        "#main function\n",
        "#code for name function\n",
        "mytext=\"Welcome to Wave Hotel, and myself Diya and May i know your good name sir or madam\"\n",
        "myobj=audio(mytext)\n",
        "myobj.save(\"welcome.mp3\")\n",
        "os.system(\"welcome.mp3\")\n",
        "name=speech()\n",
        "#code for phone number\n",
        "mytext=\"Nice Name sir or madam can you please say the 10 digit Phone Number\"\n",
        "myobj=audio(mytext)\n",
        "myobj.save(\"phonenumber.mp3\")\n",
        "os.system(\"phonenumber.mp3\")\n",
        "phone_number=speech()\n",
        "#code for address\n",
        "mytext= \"Please provide the Address(City name)\"\n",
        "myobj=audio(mytext)\n",
        "myobj.save(\"address.mp3\")\n",
        "os.system(\"address.mp3\")\n",
        "address=speech()\n",
        "#code for id_proof\n",
        "mytext=\"Please share Aadhar number or any id proof for verification\"\n",
        "myobj=audio(mytext)\n",
        "myobj.save(\"proof.mp3\")\n",
        "os.system(\"proof.mp3\")\n",
        "id_proof=speech()\n",
        "#code for room_type\n",
        "mytext=\"What kind of room are you looking sir/madam We have 1BHK or 2BHK or 3BHK or Villa are available\"\n",
        "myobj=audio(mytext)\n",
        "myobj.save(\"room.mp3\")\n",
        "os.system(\"room.mp3\")\n",
        "room_type=speech()\n",
        "#code for arrival date\n",
        "mytext=\"Arrival Date sir/madam like if its 24\\02\\2022 means say '24Feb' like this\"\n",
        "myobj=audio(mytext)\n",
        "myobj.save(\"arrivaldate.mp3\")\n",
        "os.system(\"arrivaldate.mp3\")\n",
        "date=speech()\n",
        "#code for group of member\n",
        "mytext=\" Member coming sir/madam\"\n",
        "myobj=audio(mytext)\n",
        "myobj.save(\"member.mp3\")\n",
        "os.system(\"member.mp3\")\n",
        "Member=speech()\n",
        "#code for depature date\n",
        "mytext=\" Depature Date sir/madam like if its 28\\02\\2022 means say '28Feb' like this\"\n",
        "myobj=audio(mytext)\n",
        "myobj.save(\"depaturedate.mp3\")\n",
        "os.system(\"depaturedate.mp3\")\n",
        "depature_date=speech()\n",
        "#criteria check\n",
        "criteria(member)\n",
        "#final segment for confirmation ogf booking\n",
        "mytext=\"To confirm the booking please press 1 or want to wait for the room press 2 or any queries please press any\"\n",
        "myobj=audio(mytext)\n",
        "myobj.save(\"booking.mp3\")\n",
        "os.system(\"booking.mp3\")\n",
        "a=input(\"To confirm the booking please press 1 or want to wait for the room press 2 or any queries please press any:\")\n",
        "if a==\"1\":\n",
        "    mytext=\"Thanks for Booking Happy vacation\\n Thank you please visit again\"\n",
        "    myobj=audio(mytext)\n",
        "    myobj.save(\"1.mp3\")\n",
        "    os.system(\"1.mp3\")\n",
        "elif a==\"2\":\n",
        "    mytext=\"We are extremly sorry for this and we hope the waiting will be sort out quickly \\nThank you please visit again\"\n",
        "    myobj=audio(mytext)\n",
        "    myobj.save(\"2.mp3\")\n",
        "    os.system(\"2.mp3\")\n",
        "else:\n",
        "    mytext=\"Please contact xyz@xyz.com for queries or please contact xxxxxxxxxx for any queries \\n Thank you please visit again\"\n",
        "    myobj=audio(mytext)\n",
        "    myobj.save(\"3.mp3\")\n",
        "    os.system(\"3.mp3\")"
      ]
    },
    {
      "cell_type": "markdown",
      "id": "835116dc",
      "metadata": {
        "id": "835116dc"
      },
      "source": [
        "# Conclusion"
      ]
    },
    {
      "cell_type": "markdown",
      "id": "2aac41a1",
      "metadata": {
        "id": "2aac41a1"
      },
      "source": [
        "### The criteria is only based on the group of people and the hotel management is made by voice to text format"
      ]
    },
    {
      "cell_type": "code",
      "execution_count": null,
      "id": "3b9fddba",
      "metadata": {
        "id": "3b9fddba"
      },
      "outputs": [],
      "source": []
    },
    {
      "cell_type": "code",
      "execution_count": null,
      "id": "4b32c7a4",
      "metadata": {
        "id": "4b32c7a4"
      },
      "outputs": [],
      "source": []
    }
  ],
  "metadata": {
    "kernelspec": {
      "display_name": "Python 3 (ipykernel)",
      "language": "python",
      "name": "python3"
    },
    "language_info": {
      "codemirror_mode": {
        "name": "ipython",
        "version": 3
      },
      "file_extension": ".py",
      "mimetype": "text/x-python",
      "name": "python",
      "nbconvert_exporter": "python",
      "pygments_lexer": "ipython3",
      "version": "3.9.12"
    },
    "colab": {
      "provenance": [],
      "include_colab_link": true
    }
  },
  "nbformat": 4,
  "nbformat_minor": 5
}